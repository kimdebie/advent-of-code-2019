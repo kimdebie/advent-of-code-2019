{
 "cells": [
  {
   "cell_type": "code",
   "execution_count": null,
   "metadata": {},
   "outputs": [],
   "source": [
    "from collections import defaultdict"
   ]
  },
  {
   "cell_type": "code",
   "execution_count": null,
   "metadata": {},
   "outputs": [],
   "source": [
    "lower_bound = 271973\n",
    "upper_bound = 785961"
   ]
  },
  {
   "cell_type": "code",
   "execution_count": null,
   "metadata": {},
   "outputs": [],
   "source": [
    "# Part 1: possible passwords under some constraints\n",
    "\n",
    "def two_digits_same(digits):\n",
    "        \n",
    "    last_digit = None\n",
    "    \n",
    "    for digit in digits:\n",
    "        \n",
    "        if last_digit == digit:\n",
    "            return True\n",
    "        \n",
    "        else:\n",
    "            last_digit = digit\n",
    "        \n",
    "    return False        "
   ]
  },
  {
   "cell_type": "code",
   "execution_count": null,
   "metadata": {},
   "outputs": [],
   "source": [
    "def never_decreases(digits):\n",
    "    \n",
    "    last_digit = -1\n",
    "    \n",
    "    for digit in digits:\n",
    "        \n",
    "        if digit < last_digit:\n",
    "            return False\n",
    "        \n",
    "        else:\n",
    "            last_digit = digit\n",
    "        \n",
    "    return True"
   ]
  },
  {
   "cell_type": "code",
   "execution_count": null,
   "metadata": {},
   "outputs": [],
   "source": [
    "possible_passwords = 0\n",
    "\n",
    "for password in range(lower_bound, upper_bound+1):\n",
    "    \n",
    "    digits = [int(d) for d in str(password)]\n",
    "    \n",
    "    if two_digits_same(digits) and never_decreases(digits):\n",
    "        possible_passwords += 1\n",
    "        \n",
    "possible_passwords"
   ]
  },
  {
   "cell_type": "code",
   "execution_count": null,
   "metadata": {},
   "outputs": [],
   "source": [
    "# Part 2 : at least one group that repeats exactly twice\n",
    "\n",
    "def two_digits_same_nomore(digits):\n",
    "    \n",
    "    digit_dict = defaultdict(int)\n",
    "    \n",
    "    last_digit = None\n",
    "    \n",
    "    for digit in digits:\n",
    "        if digit == last_digit:\n",
    "            digit_dict[digit] += 1\n",
    "        last_digit = digit\n",
    "\n",
    "    if 1 in digit_dict.values():\n",
    "        return True\n",
    "    else:\n",
    "        return False"
   ]
  },
  {
   "cell_type": "code",
   "execution_count": null,
   "metadata": {},
   "outputs": [],
   "source": [
    "possible_passwords = 0\n",
    "\n",
    "for password in range(lower_bound, upper_bound+1):\n",
    "    \n",
    "    digits = [int(d) for d in str(password)]\n",
    "    \n",
    "    if two_digits_same_nomore(digits) and never_decreases(digits):\n",
    "        possible_passwords += 1\n",
    "        \n",
    "possible_passwords"
   ]
  }
 ],
 "metadata": {
  "kernelspec": {
   "display_name": "Python 3",
   "language": "python",
   "name": "python3"
  },
  "language_info": {
   "codemirror_mode": {
    "name": "ipython",
    "version": 3
   },
   "file_extension": ".py",
   "mimetype": "text/x-python",
   "name": "python",
   "nbconvert_exporter": "python",
   "pygments_lexer": "ipython3",
   "version": "3.7.4"
  }
 },
 "nbformat": 4,
 "nbformat_minor": 2
}
