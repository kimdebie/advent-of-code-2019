{
 "cells": [
  {
   "cell_type": "code",
   "execution_count": null,
   "metadata": {},
   "outputs": [],
   "source": [
    "import csv\n",
    "import pandas as pd\n",
    "import copy"
   ]
  },
  {
   "cell_type": "code",
   "execution_count": null,
   "metadata": {},
   "outputs": [],
   "source": [
    "# read in data\n",
    "codes = []\n",
    "with open('day2_input.txt') as csvfile:\n",
    "    codes_file = csv.reader(csvfile)\n",
    "    for codeline in codes_file:\n",
    "        for code in codeline:\n",
    "            codes.append(int(code))"
   ]
  },
  {
   "cell_type": "code",
   "execution_count": null,
   "metadata": {},
   "outputs": [],
   "source": [
    "# Part 1: running the program\n",
    "\n",
    "def run_program(indata_clean, noun, verb):\n",
    "    \n",
    "    indata = copy.deepcopy(indata_clean)\n",
    "    \n",
    "    # first restore to original state\n",
    "    indata[1] = noun\n",
    "    indata[2] = verb\n",
    "\n",
    "    # run the program\n",
    "    for idx in range(len(indata)):\n",
    "\n",
    "        # only execute at every fourth item\n",
    "        if idx % 4 == 0:\n",
    "\n",
    "            # if the first position is a one, perform addition\n",
    "            if indata[idx] == 1:\n",
    "                indata[indata[idx+3]] = indata[indata[idx+1]] + indata[indata[idx+2]]\n",
    "\n",
    "            # if it is a 2, perform multiplication\n",
    "            elif indata[idx] == 2:\n",
    "                indata[indata[idx+3]] = indata[indata[idx+1]] * indata[indata[idx+2]]\n",
    "\n",
    "            # if it is a 99, stop the program\n",
    "            elif indata[idx] == 99:\n",
    "                return indata[0]    \n",
    "\n",
    "out = run_program(codes, 12, 2)\n",
    "out"
   ]
  },
  {
   "cell_type": "code",
   "execution_count": null,
   "metadata": {},
   "outputs": [],
   "source": [
    "# Part 2: find the noun and verb that return 19690720\n",
    "\n",
    "for noun in range(100):\n",
    "    for verb in range(100):\n",
    "        print(noun, verb)\n",
    "        output = run_program(codes, noun, verb)\n",
    "        if output == 19690720:\n",
    "            print(100 * noun + verb)"
   ]
  }
 ],
 "metadata": {
  "kernelspec": {
   "display_name": "Python 3",
   "language": "python",
   "name": "python3"
  },
  "language_info": {
   "codemirror_mode": {
    "name": "ipython",
    "version": 3
   },
   "file_extension": ".py",
   "mimetype": "text/x-python",
   "name": "python",
   "nbconvert_exporter": "python",
   "pygments_lexer": "ipython3",
   "version": "3.7.4"
  }
 },
 "nbformat": 4,
 "nbformat_minor": 2
}
