{
 "cells": [
  {
   "cell_type": "code",
   "execution_count": null,
   "metadata": {},
   "outputs": [],
   "source": [
    "import pandas as pd\n",
    "import math"
   ]
  },
  {
   "cell_type": "code",
   "execution_count": null,
   "metadata": {},
   "outputs": [],
   "source": [
    "data = pd.read_csv('day1_input.txt', header=None, names=['mass'])"
   ]
  },
  {
   "cell_type": "code",
   "execution_count": null,
   "metadata": {},
   "outputs": [],
   "source": [
    "# Part 1: Calculate the amount of fuel needed\n",
    "\n",
    "total = data['mass'].apply(lambda x: math.floor(x/3) - 2).sum()\n",
    "total"
   ]
  },
  {
   "cell_type": "code",
   "execution_count": null,
   "metadata": {},
   "outputs": [],
   "source": [
    "# Part 2: calculate amount of fuel required recursively\n",
    "\n",
    "total_fuel = 0\n",
    "\n",
    "# iterate over all modules\n",
    "for module in data['mass']:\n",
    "    \n",
    "    # calculate an initial amount of extra fuel\n",
    "    extra_fuel = math.floor(module/3) - 2\n",
    "    module_fuel = 0\n",
    "    \n",
    "    # until no more fuel is needed\n",
    "    while extra_fuel > 0:\n",
    "        \n",
    "        # recursively calculate the fuel needed for the fuel\n",
    "        module_fuel += extra_fuel\n",
    "        extra_fuel = math.floor(extra_fuel/3) - 2\n",
    "    \n",
    "    # add up\n",
    "    total_fuel += module_fuel\n",
    "    \n",
    "total_fuel"
   ]
  }
 ],
 "metadata": {
  "kernelspec": {
   "display_name": "Python 3",
   "language": "python",
   "name": "python3"
  },
  "language_info": {
   "codemirror_mode": {
    "name": "ipython",
    "version": 3
   },
   "file_extension": ".py",
   "mimetype": "text/x-python",
   "name": "python",
   "nbconvert_exporter": "python",
   "pygments_lexer": "ipython3",
   "version": "3.7.4"
  }
 },
 "nbformat": 4,
 "nbformat_minor": 2
}
