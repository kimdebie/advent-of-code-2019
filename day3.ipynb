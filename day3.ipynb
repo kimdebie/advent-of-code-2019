{
 "cells": [
  {
   "cell_type": "code",
   "execution_count": null,
   "metadata": {},
   "outputs": [],
   "source": [
    "import numpy as np\n",
    "from collections import defaultdict"
   ]
  },
  {
   "cell_type": "code",
   "execution_count": null,
   "metadata": {},
   "outputs": [],
   "source": [
    "# read in file\n",
    "lines = []\n",
    "\n",
    "with open('day3_input.txt') as infile:\n",
    "    for line in infile:\n",
    "        lines.append([l.rstrip('\\n') for l in line.split(',')])"
   ]
  },
  {
   "cell_type": "code",
   "execution_count": null,
   "metadata": {},
   "outputs": [],
   "source": [
    "# Part 1: determine intersection points\n",
    "\n",
    "def get_intersections(wiregrid, line):\n",
    "\n",
    "    current_x = 0\n",
    "    current_y = 0\n",
    "    path_length = 0\n",
    "\n",
    "    change_x = {'R': 1, 'L': -1, 'U': 0, 'D': 0}\n",
    "    change_y = {'R': 0, 'L': 0, 'U': -1, 'D': 1}\n",
    "\n",
    "\n",
    "    for dr in line:\n",
    "\n",
    "        steps = int(dr[1:])\n",
    "\n",
    "        for step in range(steps):\n",
    "\n",
    "            current_x += change_x[dr[0]]\n",
    "            current_y += change_y[dr[0]]\n",
    "            path_length += 1\n",
    "\n",
    "            wiregrid[(current_x, current_y)] = path_length\n",
    "            \n",
    "                \n",
    "    return wiregrid"
   ]
  },
  {
   "cell_type": "code",
   "execution_count": null,
   "metadata": {},
   "outputs": [],
   "source": [
    "wiregrid_A = get_intersections({}, lines[0])\n",
    "wiregrid_B = get_intersections({}, lines[1])\n",
    "\n",
    "overlaps = set(wiregrid_A.keys()) & set(wiregrid_B.keys())\n",
    "\n",
    "sizeoverlap = []\n",
    "\n",
    "for overlap in overlaps:\n",
    "    sizeoverlap.append(abs(overlap[0]) + abs(overlap[1]))\n",
    "            \n",
    "sizeoverlap.sort()\n",
    "sizeoverlap[0]"
   ]
  },
  {
   "cell_type": "code",
   "execution_count": null,
   "metadata": {},
   "outputs": [],
   "source": [
    "# Part 2 : intersection with shortest total path length\n",
    "\n",
    "lengthoverlap = []\n",
    "\n",
    "for overlap in overlaps:\n",
    "    lengthoverlap.append(wiregrid_A[overlap] + wiregrid_B[overlap])\n",
    "    \n",
    "lengthoverlap.sort()\n",
    "lengthoverlap[0]"
   ]
  }
 ],
 "metadata": {
  "kernelspec": {
   "display_name": "Python 3",
   "language": "python",
   "name": "python3"
  },
  "language_info": {
   "codemirror_mode": {
    "name": "ipython",
    "version": 3
   },
   "file_extension": ".py",
   "mimetype": "text/x-python",
   "name": "python",
   "nbconvert_exporter": "python",
   "pygments_lexer": "ipython3",
   "version": "3.7.4"
  }
 },
 "nbformat": 4,
 "nbformat_minor": 2
}
